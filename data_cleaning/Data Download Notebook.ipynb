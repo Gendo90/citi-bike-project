{
 "cells": [
  {
   "cell_type": "code",
   "execution_count": 19,
   "metadata": {},
   "outputs": [],
   "source": [
    "import pandas as pd\n",
    "import datetime\n",
    "import time\n",
    "from scipy.spatial import distance\n",
    "import requests"
   ]
  },
  {
   "cell_type": "code",
   "execution_count": 20,
   "metadata": {},
   "outputs": [],
   "source": [
    "# data cleaning & standardizing functions (from exploratory data analysis notebook) - to be used on each data set\n",
    "# downloaded from the Citi bike website\n",
    "def getDist(row):\n",
    "    start = [row[\"start station latitude\"], row[\"start station longitude\"]]\n",
    "    end = [row[\"end station latitude\"], row[\"end station longitude\"]]\n",
    "    sec = row[\"tripduration\"]\n",
    "    total_coord_dist = distance.cdist([start], [end], 'cityblock')\n",
    "    return (total_coord_dist*69*3600/(sec))[0][0]\n",
    "\n",
    "def getRiderAge(df):\n",
    "    df[\"rider_age\"] = df[\"birth year\"].apply(lambda x: datetime.datetime.now().year - x)\n",
    "    \n",
    "def getAvgSpeed(df):\n",
    "    df[\"avg_speed\"] = df.apply(lambda row: getDist(row), axis=1)\n",
    "    \n",
    "#start to make a cleaning/organizing function for new data frame imports\n",
    "def addCols(df):\n",
    "    getRiderAge(df)\n",
    "    #remove all riders older than about 80 - not really a huge demographic for cylcing anyway\n",
    "    getAvgSpeed(df)"
   ]
  },
  {
   "cell_type": "code",
   "execution_count": 31,
   "metadata": {},
   "outputs": [
    {
     "data": {
      "text/plain": [
       "['https://s3.amazonaws.com/tripdata/201801-citibike-tripdata.csv.zip',\n",
       " 'https://s3.amazonaws.com/tripdata/201802-citibike-tripdata.csv.zip',\n",
       " 'https://s3.amazonaws.com/tripdata/201803-citibike-tripdata.csv.zip',\n",
       " 'https://s3.amazonaws.com/tripdata/201804-citibike-tripdata.csv.zip',\n",
       " 'https://s3.amazonaws.com/tripdata/201805-citibike-tripdata.csv.zip',\n",
       " 'https://s3.amazonaws.com/tripdata/201806-citibike-tripdata.csv.zip',\n",
       " 'https://s3.amazonaws.com/tripdata/201807-citibike-tripdata.csv.zip',\n",
       " 'https://s3.amazonaws.com/tripdata/201808-citibike-tripdata.csv.zip',\n",
       " 'https://s3.amazonaws.com/tripdata/201809-citibike-tripdata.csv.zip',\n",
       " 'https://s3.amazonaws.com/tripdata/201810-citibike-tripdata.csv.zip',\n",
       " 'https://s3.amazonaws.com/tripdata/201811-citibike-tripdata.csv.zip',\n",
       " 'https://s3.amazonaws.com/tripdata/201812-citibike-tripdata.csv.zip',\n",
       " 'https://s3.amazonaws.com/tripdata/201901-citibike-tripdata.csv.zip',\n",
       " 'https://s3.amazonaws.com/tripdata/201902-citibike-tripdata.csv.zip',\n",
       " 'https://s3.amazonaws.com/tripdata/201903-citibike-tripdata.csv.zip',\n",
       " 'https://s3.amazonaws.com/tripdata/201904-citibike-tripdata.csv.zip',\n",
       " 'https://s3.amazonaws.com/tripdata/201905-citibike-tripdata.csv.zip',\n",
       " 'https://s3.amazonaws.com/tripdata/201906-citibike-tripdata.csv.zip',\n",
       " 'https://s3.amazonaws.com/tripdata/201907-citibike-tripdata.csv.zip',\n",
       " 'https://s3.amazonaws.com/tripdata/201908-citibike-tripdata.csv.zip',\n",
       " 'https://s3.amazonaws.com/tripdata/201909-citibike-tripdata.csv.zip',\n",
       " 'https://s3.amazonaws.com/tripdata/201910-citibike-tripdata.csv.zip',\n",
       " 'https://s3.amazonaws.com/tripdata/201911-citibike-tripdata.csv.zip',\n",
       " 'https://s3.amazonaws.com/tripdata/201912-citibike-tripdata.csv.zip',\n",
       " 'https://s3.amazonaws.com/tripdata/202001-citibike-tripdata.csv.zip']"
      ]
     },
     "execution_count": 31,
     "metadata": {},
     "output_type": "execute_result"
    }
   ],
   "source": [
    "#uses the \"requests\" python library and a custom, formatted url string \n",
    "#to get a range of csvs downloaded, with the \"start\" and \"end\" parameters in the \n",
    "#form of [month, year], with months numbered 1 through 12 and year being 2017 or later\n",
    "def getCSVZips(start, end):\n",
    "    #validate inputs here later - ensuring that the \"end\" argument is after \"start\"\n",
    "    \n",
    "    #array to return with url strings\n",
    "    output = []\n",
    "    for year in range(start[1], end[1]+1):\n",
    "        if(start[1]==year):\n",
    "            start_month = start[0]\n",
    "        else:\n",
    "            start_month = 1\n",
    "        \n",
    "        for month in range(start_month, 13):\n",
    "            curr_url = \"https://s3.amazonaws.com/tripdata/{}{:0>2d}-citibike-tripdata.csv.zip\".format(year, month)\n",
    "            output.append(curr_url)\n",
    "            if(end[0]==month and end[1]==year):\n",
    "                return output\n",
    "\n",
    "getCSVZips([1, 2018], [1, 2020])"
   ]
  },
  {
   "cell_type": "code",
   "execution_count": 35,
   "metadata": {},
   "outputs": [
    {
     "data": {
      "text/plain": [
       "63277904"
      ]
     },
     "execution_count": 35,
     "metadata": {},
     "output_type": "execute_result"
    }
   ],
   "source": [
    "#now get the data for the past 3 years to look for seasonal trends \n",
    "url_list = getCSVZips([8, 2017], [8, 2020])\n",
    "\n",
    "response = requests.get(url_list[0], allow_redirects=True)\n",
    "open(\"../raw_data/\" + url_list[0].split(\"/\")[-1], 'wb').write(response.content)"
   ]
  },
  {
   "cell_type": "code",
   "execution_count": null,
   "metadata": {},
   "outputs": [],
   "source": []
  }
 ],
 "metadata": {
  "kernelspec": {
   "display_name": "Python 3",
   "language": "python",
   "name": "python3"
  },
  "language_info": {
   "codemirror_mode": {
    "name": "ipython",
    "version": 3
   },
   "file_extension": ".py",
   "mimetype": "text/x-python",
   "name": "python",
   "nbconvert_exporter": "python",
   "pygments_lexer": "ipython3",
   "version": "3.7.6"
  }
 },
 "nbformat": 4,
 "nbformat_minor": 4
}
